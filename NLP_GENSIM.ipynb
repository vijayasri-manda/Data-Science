{
  "nbformat": 4,
  "nbformat_minor": 0,
  "metadata": {
    "colab": {
      "provenance": [],
      "authorship_tag": "ABX9TyPrczQlN46d3E8Dd9c7Gjae",
      "include_colab_link": true
    },
    "kernelspec": {
      "name": "python3",
      "display_name": "Python 3"
    },
    "language_info": {
      "name": "python"
    }
  },
  "cells": [
    {
      "cell_type": "markdown",
      "metadata": {
        "id": "view-in-github",
        "colab_type": "text"
      },
      "source": [
        "<a href=\"https://colab.research.google.com/github/vijayasri-manda/Data-Science/blob/main/NLP_GENSIM.ipynb\" target=\"_parent\"><img src=\"https://colab.research.google.com/assets/colab-badge.svg\" alt=\"Open In Colab\"/></a>"
      ]
    },
    {
      "cell_type": "markdown",
      "source": [
        "# GENSIM\n",
        "Gensim is a Python library used in Natural Language Processing (NLP). It helps computers understand and work with human language.\n",
        "\n"
      ],
      "metadata": {
        "id": "DbH8YoT020DU"
      }
    },
    {
      "cell_type": "code",
      "execution_count": 1,
      "metadata": {
        "colab": {
          "base_uri": "https://localhost:8080/"
        },
        "id": "sNtBwLnRnZfn",
        "outputId": "083cbe8f-1d9d-4301-c80f-f6525d667c02"
      },
      "outputs": [
        {
          "output_type": "stream",
          "name": "stdout",
          "text": [
            "Requirement already satisfied: numpy==1.26.4 in /usr/local/lib/python3.11/dist-packages (1.26.4)\n",
            "Requirement already satisfied: scipy==1.13.1 in /usr/local/lib/python3.11/dist-packages (1.13.1)\n"
          ]
        }
      ],
      "source": [
        "pip install numpy==1.26.4 scipy==1.13.1\n"
      ]
    },
    {
      "cell_type": "code",
      "source": [
        "!pip install gensim"
      ],
      "metadata": {
        "colab": {
          "base_uri": "https://localhost:8080/"
        },
        "id": "HyxECCUonks6",
        "outputId": "71c3b207-057d-49de-e4c1-6c4f7760354e"
      },
      "execution_count": 2,
      "outputs": [
        {
          "output_type": "stream",
          "name": "stdout",
          "text": [
            "Requirement already satisfied: gensim in /usr/local/lib/python3.11/dist-packages (4.3.3)\n",
            "Requirement already satisfied: numpy<2.0,>=1.18.5 in /usr/local/lib/python3.11/dist-packages (from gensim) (1.26.4)\n",
            "Requirement already satisfied: scipy<1.14.0,>=1.7.0 in /usr/local/lib/python3.11/dist-packages (from gensim) (1.13.1)\n",
            "Requirement already satisfied: smart-open>=1.8.1 in /usr/local/lib/python3.11/dist-packages (from gensim) (7.1.0)\n",
            "Requirement already satisfied: wrapt in /usr/local/lib/python3.11/dist-packages (from smart-open>=1.8.1->gensim) (1.17.2)\n"
          ]
        }
      ]
    },
    {
      "cell_type": "markdown",
      "source": [
        "It is disconnects the runtime and restart session"
      ],
      "metadata": {
        "id": "7wcMQ-Ucq1pP"
      }
    },
    {
      "cell_type": "code",
      "source": [
        "import os\n",
        "os.kill(os.getpid(), 9)\n"
      ],
      "metadata": {
        "id": "pd41JW4nntPZ"
      },
      "execution_count": null,
      "outputs": []
    },
    {
      "cell_type": "markdown",
      "source": [
        "# StopWords: set of common English stopwords\n"
      ],
      "metadata": {
        "id": "ccijyFCRsFwS"
      }
    },
    {
      "cell_type": "code",
      "source": [
        "from gensim.parsing.preprocessing import STOPWORDS\n"
      ],
      "metadata": {
        "id": "MgomzR-usMDL"
      },
      "execution_count": 1,
      "outputs": []
    },
    {
      "cell_type": "code",
      "source": [
        "print(STOPWORDS)"
      ],
      "metadata": {
        "colab": {
          "base_uri": "https://localhost:8080/"
        },
        "id": "pMwbzVr9o7SG",
        "outputId": "cece5d39-7660-40b8-bf38-156ee3adeb6b"
      },
      "execution_count": 2,
      "outputs": [
        {
          "output_type": "stream",
          "name": "stdout",
          "text": [
            "frozenset({'besides', 'here', 'bill', 'even', 'along', 'other', 'please', 'neither', 'if', 'same', 'anyhow', 'itself', 'over', 'of', 'she', 'would', 'but', 'meanwhile', 'toward', 'each', 'twelve', 'how', 'doing', 'etc', 'describe', 'con', 'an', 'herein', 'see', 'down', 'whoever', 'or', 'noone', 'its', 'perhaps', 'thereby', 'him', 'either', 'alone', 'indeed', 'something', 'thereupon', 'although', 'put', 'namely', 'somehow', 'afterwards', 'via', 'thence', 'became', 'third', 'anyone', 'quite', 'one', 'keep', 'find', 'whatever', 'hereby', 'whither', 'really', 'up', 'nowhere', 'make', 'due', 'used', 'last', 'just', 'didn', 'because', 'at', 'yet', 'since', 'all', 'both', 'fifteen', 'out', 'what', 'two', 'do', 'among', 'thin', 'inc', 'whereby', 'seeming', 'sixty', 'cant', 'couldnt', 'except', 'when', 'per', 'side', 'hereafter', 'everyone', 'least', 'only', 'take', 'upon', 'these', 'detail', 'whether', 'above', 'another', 'mostly', 'about', 'for', 'whole', 'fire', 'first', 'empty', 'co', 'below', 'three', 'hers', 'we', 'back', 'become', 'those', 'once', 'as', 'becoming', 'on', 'twenty', 'that', 'hundred', 'whose', 'none', 'nine', 'may', 'more', 'than', 'un', 'this', 'call', 'them', 'doesn', 'unless', 'where', 'themselves', 'being', 'beyond', 'by', 'also', 'always', 'not', 'much', 'after', 'everywhere', 'again', 'cannot', 'name', 'could', 'whence', 'myself', 'ours', 'many', 'onto', 'almost', 'across', 'nevertheless', 'is', 'around', 'which', 'too', 'elsewhere', 'his', 'sometime', 'such', 'less', 'own', 'made', 'move', 'though', 'am', 'otherwise', 'thru', 'no', 'eight', 'serious', 'thus', 'interest', 'ten', 'during', 'does', 'seems', 'moreover', 'found', 'ie', 'regarding', 'amount', 'whenever', 'km', 'using', 'wherein', 'together', 'a', 'until', 'becomes', 'well', 'might', 'you', 'four', 'anywhere', 'amoungst', 'already', 'still', 'never', 'others', 'yours', 'mine', 'formerly', 'fifty', 'any', 'full', 'had', 'every', 'with', 'us', 'front', 'enough', 'against', 'forty', 'beforehand', 'eg', 'within', 'seemed', 'get', 'why', 'five', 'give', 'bottom', 'six', 'her', 'then', 'now', 'between', 'my', 'towards', 'yourselves', 'done', 'there', 'without', 'therefore', 'behind', 'further', 'hence', 'in', 'don', 'he', 'ltd', 'through', 'fill', 'anything', 're', 'off', 'to', 'so', 'whom', 'however', 'throughout', 'must', 'say', 'before', 'under', 'be', 'will', 'thick', 'whereas', 'himself', 'go', 'your', 'can', 'mill', 'kg', 'they', 'next', 'whereupon', 'sincere', 'seem', 'computer', 'while', 'into', 'therein', 'very', 'part', 'anyway', 'should', 'latterly', 'i', 'somewhere', 'show', 'cry', 'often', 'it', 'rather', 'nothing', 'system', 'from', 'the', 'everything', 'whereafter', 'beside', 'de', 'are', 'sometimes', 'former', 'yourself', 'top', 'thereafter', 'were', 'most', 'else', 'nor', 'their', 'some', 'our', 'me', 'eleven', 'herself', 'have', 'was', 'has', 'hasnt', 'few', 'ourselves', 'various', 'amongst', 'nobody', 'several', 'did', 'and', 'wherever', 'who', 'ever', 'hereupon', 'someone', 'latter', 'been'})\n"
          ]
        }
      ]
    },
    {
      "cell_type": "code",
      "source": [
        "len(STOPWORDS)"
      ],
      "metadata": {
        "colab": {
          "base_uri": "https://localhost:8080/"
        },
        "id": "Vkub3svir5Rs",
        "outputId": "e22e97ce-1e8a-431d-f24b-21156861b662"
      },
      "execution_count": 3,
      "outputs": [
        {
          "output_type": "execute_result",
          "data": {
            "text/plain": [
              "337"
            ]
          },
          "metadata": {},
          "execution_count": 3
        }
      ]
    },
    {
      "cell_type": "markdown",
      "source": [
        "**Removing StopWords**"
      ],
      "metadata": {
        "id": "ccZvquWbskSs"
      }
    },
    {
      "cell_type": "code",
      "source": [
        "from gensim.parsing.preprocessing import remove_stopwords"
      ],
      "metadata": {
        "id": "j9EdV51LsmQm"
      },
      "execution_count": 4,
      "outputs": []
    },
    {
      "cell_type": "code",
      "source": [
        "text = \"Gensim is a very useful NLP library for topic modeling and document similarity.\"\n"
      ],
      "metadata": {
        "id": "Wm9oggJtsxAv"
      },
      "execution_count": 5,
      "outputs": []
    },
    {
      "cell_type": "code",
      "source": [
        "newtext=remove_stopwords(text)"
      ],
      "metadata": {
        "id": "R-1Yo6SMs1r6"
      },
      "execution_count": 6,
      "outputs": []
    },
    {
      "cell_type": "code",
      "source": [
        "newtext"
      ],
      "metadata": {
        "colab": {
          "base_uri": "https://localhost:8080/",
          "height": 36
        },
        "id": "myOA4fUns4ny",
        "outputId": "8917e533-63bc-450a-f0e5-cb229a5fd292"
      },
      "execution_count": 7,
      "outputs": [
        {
          "output_type": "execute_result",
          "data": {
            "text/plain": [
              "'Gensim useful NLP library topic modeling document similarity.'"
            ],
            "application/vnd.google.colaboratory.intrinsic+json": {
              "type": "string"
            }
          },
          "metadata": {},
          "execution_count": 7
        }
      ]
    },
    {
      "cell_type": "markdown",
      "source": [
        "**preprocess_string** is used for text cleaning that is lowercasing,removing punctuation,stopwords etc."
      ],
      "metadata": {
        "id": "ZCCZrVlbt_vl"
      }
    },
    {
      "cell_type": "code",
      "source": [
        "from gensim.parsing.preprocessing import preprocess_string\n",
        "processed=preprocess_string(text)\n",
        "processed"
      ],
      "metadata": {
        "colab": {
          "base_uri": "https://localhost:8080/"
        },
        "id": "afyJ4j1Isvj2",
        "outputId": "52db1ab3-42eb-4724-cc37-1f98ce53c2f6"
      },
      "execution_count": 8,
      "outputs": [
        {
          "output_type": "execute_result",
          "data": {
            "text/plain": [
              "['gensim', 'us', 'nlp', 'librari', 'topic', 'model', 'document', 'similar']"
            ]
          },
          "metadata": {},
          "execution_count": 8
        }
      ]
    },
    {
      "cell_type": "markdown",
      "source": [
        "**strip_punctuation** used for removing punctuations such as comma,fullstop,etc..."
      ],
      "metadata": {
        "id": "FpiYPjLLuisQ"
      }
    },
    {
      "cell_type": "code",
      "source": [
        "from gensim.parsing.preprocessing import strip_punctuation\n",
        "strip_punctuation(text)"
      ],
      "metadata": {
        "colab": {
          "base_uri": "https://localhost:8080/",
          "height": 36
        },
        "id": "vmSO1rl0tXtb",
        "outputId": "4634a038-375a-45aa-e959-8c7c61c0c2e6"
      },
      "execution_count": 9,
      "outputs": [
        {
          "output_type": "execute_result",
          "data": {
            "text/plain": [
              "'Gensim is a very useful NLP library for topic modeling and document similarity '"
            ],
            "application/vnd.google.colaboratory.intrinsic+json": {
              "type": "string"
            }
          },
          "metadata": {},
          "execution_count": 9
        }
      ]
    },
    {
      "cell_type": "markdown",
      "source": [
        "strip_numeric is used for removing numeric values in a string."
      ],
      "metadata": {
        "id": "nGpW1ZgWvqyN"
      }
    },
    {
      "cell_type": "code",
      "source": [
        "from gensim.parsing.preprocessing import strip_numeric\n",
        "mail=\"vijayasrimanda025@gmail.com\"\n",
        "strip_numeric(mail)"
      ],
      "metadata": {
        "colab": {
          "base_uri": "https://localhost:8080/",
          "height": 36
        },
        "id": "glECgFYKt3eL",
        "outputId": "75e422f1-788b-4739-8239-30a435d82446"
      },
      "execution_count": 10,
      "outputs": [
        {
          "output_type": "execute_result",
          "data": {
            "text/plain": [
              "'vijayasrimanda@gmail.com'"
            ],
            "application/vnd.google.colaboratory.intrinsic+json": {
              "type": "string"
            }
          },
          "metadata": {},
          "execution_count": 10
        }
      ]
    },
    {
      "cell_type": "markdown",
      "source": [
        "# Modifying Stopwords\n"
      ],
      "metadata": {
        "id": "dlQWIRaYv6Xu"
      }
    },
    {
      "cell_type": "markdown",
      "source": [
        "**Adding StopWords**"
      ],
      "metadata": {
        "id": "nmCsYu05wSnG"
      }
    },
    {
      "cell_type": "code",
      "source": [
        "new_StopWords=STOPWORDS.union({\"Om Namah Shivaya!\",\"Om Gam Ganapathaye Namaha!\",\"vijayasri\",\"Siri\"})\n",
        "new_StopWords"
      ],
      "metadata": {
        "colab": {
          "base_uri": "https://localhost:8080/"
        },
        "id": "fdi7VLJtvQ26",
        "outputId": "6ab4678c-94c1-4ff0-d70e-5c5c1b8d4185"
      },
      "execution_count": 11,
      "outputs": [
        {
          "output_type": "execute_result",
          "data": {
            "text/plain": [
              "frozenset({'Om Gam Ganapathaye Namaha!',\n",
              "           'Om Namah Shivaya!',\n",
              "           'Siri',\n",
              "           'a',\n",
              "           'about',\n",
              "           'above',\n",
              "           'across',\n",
              "           'after',\n",
              "           'afterwards',\n",
              "           'again',\n",
              "           'against',\n",
              "           'all',\n",
              "           'almost',\n",
              "           'alone',\n",
              "           'along',\n",
              "           'already',\n",
              "           'also',\n",
              "           'although',\n",
              "           'always',\n",
              "           'am',\n",
              "           'among',\n",
              "           'amongst',\n",
              "           'amoungst',\n",
              "           'amount',\n",
              "           'an',\n",
              "           'and',\n",
              "           'another',\n",
              "           'any',\n",
              "           'anyhow',\n",
              "           'anyone',\n",
              "           'anything',\n",
              "           'anyway',\n",
              "           'anywhere',\n",
              "           'are',\n",
              "           'around',\n",
              "           'as',\n",
              "           'at',\n",
              "           'back',\n",
              "           'be',\n",
              "           'became',\n",
              "           'because',\n",
              "           'become',\n",
              "           'becomes',\n",
              "           'becoming',\n",
              "           'been',\n",
              "           'before',\n",
              "           'beforehand',\n",
              "           'behind',\n",
              "           'being',\n",
              "           'below',\n",
              "           'beside',\n",
              "           'besides',\n",
              "           'between',\n",
              "           'beyond',\n",
              "           'bill',\n",
              "           'both',\n",
              "           'bottom',\n",
              "           'but',\n",
              "           'by',\n",
              "           'call',\n",
              "           'can',\n",
              "           'cannot',\n",
              "           'cant',\n",
              "           'co',\n",
              "           'computer',\n",
              "           'con',\n",
              "           'could',\n",
              "           'couldnt',\n",
              "           'cry',\n",
              "           'de',\n",
              "           'describe',\n",
              "           'detail',\n",
              "           'did',\n",
              "           'didn',\n",
              "           'do',\n",
              "           'does',\n",
              "           'doesn',\n",
              "           'doing',\n",
              "           'don',\n",
              "           'done',\n",
              "           'down',\n",
              "           'due',\n",
              "           'during',\n",
              "           'each',\n",
              "           'eg',\n",
              "           'eight',\n",
              "           'either',\n",
              "           'eleven',\n",
              "           'else',\n",
              "           'elsewhere',\n",
              "           'empty',\n",
              "           'enough',\n",
              "           'etc',\n",
              "           'even',\n",
              "           'ever',\n",
              "           'every',\n",
              "           'everyone',\n",
              "           'everything',\n",
              "           'everywhere',\n",
              "           'except',\n",
              "           'few',\n",
              "           'fifteen',\n",
              "           'fifty',\n",
              "           'fill',\n",
              "           'find',\n",
              "           'fire',\n",
              "           'first',\n",
              "           'five',\n",
              "           'for',\n",
              "           'former',\n",
              "           'formerly',\n",
              "           'forty',\n",
              "           'found',\n",
              "           'four',\n",
              "           'from',\n",
              "           'front',\n",
              "           'full',\n",
              "           'further',\n",
              "           'get',\n",
              "           'give',\n",
              "           'go',\n",
              "           'had',\n",
              "           'has',\n",
              "           'hasnt',\n",
              "           'have',\n",
              "           'he',\n",
              "           'hence',\n",
              "           'her',\n",
              "           'here',\n",
              "           'hereafter',\n",
              "           'hereby',\n",
              "           'herein',\n",
              "           'hereupon',\n",
              "           'hers',\n",
              "           'herself',\n",
              "           'him',\n",
              "           'himself',\n",
              "           'his',\n",
              "           'how',\n",
              "           'however',\n",
              "           'hundred',\n",
              "           'i',\n",
              "           'ie',\n",
              "           'if',\n",
              "           'in',\n",
              "           'inc',\n",
              "           'indeed',\n",
              "           'interest',\n",
              "           'into',\n",
              "           'is',\n",
              "           'it',\n",
              "           'its',\n",
              "           'itself',\n",
              "           'just',\n",
              "           'keep',\n",
              "           'kg',\n",
              "           'km',\n",
              "           'last',\n",
              "           'latter',\n",
              "           'latterly',\n",
              "           'least',\n",
              "           'less',\n",
              "           'ltd',\n",
              "           'made',\n",
              "           'make',\n",
              "           'many',\n",
              "           'may',\n",
              "           'me',\n",
              "           'meanwhile',\n",
              "           'might',\n",
              "           'mill',\n",
              "           'mine',\n",
              "           'more',\n",
              "           'moreover',\n",
              "           'most',\n",
              "           'mostly',\n",
              "           'move',\n",
              "           'much',\n",
              "           'must',\n",
              "           'my',\n",
              "           'myself',\n",
              "           'name',\n",
              "           'namely',\n",
              "           'neither',\n",
              "           'never',\n",
              "           'nevertheless',\n",
              "           'next',\n",
              "           'nine',\n",
              "           'no',\n",
              "           'nobody',\n",
              "           'none',\n",
              "           'noone',\n",
              "           'nor',\n",
              "           'not',\n",
              "           'nothing',\n",
              "           'now',\n",
              "           'nowhere',\n",
              "           'of',\n",
              "           'off',\n",
              "           'often',\n",
              "           'on',\n",
              "           'once',\n",
              "           'one',\n",
              "           'only',\n",
              "           'onto',\n",
              "           'or',\n",
              "           'other',\n",
              "           'others',\n",
              "           'otherwise',\n",
              "           'our',\n",
              "           'ours',\n",
              "           'ourselves',\n",
              "           'out',\n",
              "           'over',\n",
              "           'own',\n",
              "           'part',\n",
              "           'per',\n",
              "           'perhaps',\n",
              "           'please',\n",
              "           'put',\n",
              "           'quite',\n",
              "           'rather',\n",
              "           're',\n",
              "           'really',\n",
              "           'regarding',\n",
              "           'same',\n",
              "           'say',\n",
              "           'see',\n",
              "           'seem',\n",
              "           'seemed',\n",
              "           'seeming',\n",
              "           'seems',\n",
              "           'serious',\n",
              "           'several',\n",
              "           'she',\n",
              "           'should',\n",
              "           'show',\n",
              "           'side',\n",
              "           'since',\n",
              "           'sincere',\n",
              "           'six',\n",
              "           'sixty',\n",
              "           'so',\n",
              "           'some',\n",
              "           'somehow',\n",
              "           'someone',\n",
              "           'something',\n",
              "           'sometime',\n",
              "           'sometimes',\n",
              "           'somewhere',\n",
              "           'still',\n",
              "           'such',\n",
              "           'system',\n",
              "           'take',\n",
              "           'ten',\n",
              "           'than',\n",
              "           'that',\n",
              "           'the',\n",
              "           'their',\n",
              "           'them',\n",
              "           'themselves',\n",
              "           'then',\n",
              "           'thence',\n",
              "           'there',\n",
              "           'thereafter',\n",
              "           'thereby',\n",
              "           'therefore',\n",
              "           'therein',\n",
              "           'thereupon',\n",
              "           'these',\n",
              "           'they',\n",
              "           'thick',\n",
              "           'thin',\n",
              "           'third',\n",
              "           'this',\n",
              "           'those',\n",
              "           'though',\n",
              "           'three',\n",
              "           'through',\n",
              "           'throughout',\n",
              "           'thru',\n",
              "           'thus',\n",
              "           'to',\n",
              "           'together',\n",
              "           'too',\n",
              "           'top',\n",
              "           'toward',\n",
              "           'towards',\n",
              "           'twelve',\n",
              "           'twenty',\n",
              "           'two',\n",
              "           'un',\n",
              "           'under',\n",
              "           'unless',\n",
              "           'until',\n",
              "           'up',\n",
              "           'upon',\n",
              "           'us',\n",
              "           'used',\n",
              "           'using',\n",
              "           'various',\n",
              "           'very',\n",
              "           'via',\n",
              "           'vijayasri',\n",
              "           'was',\n",
              "           'we',\n",
              "           'well',\n",
              "           'were',\n",
              "           'what',\n",
              "           'whatever',\n",
              "           'when',\n",
              "           'whence',\n",
              "           'whenever',\n",
              "           'where',\n",
              "           'whereafter',\n",
              "           'whereas',\n",
              "           'whereby',\n",
              "           'wherein',\n",
              "           'whereupon',\n",
              "           'wherever',\n",
              "           'whether',\n",
              "           'which',\n",
              "           'while',\n",
              "           'whither',\n",
              "           'who',\n",
              "           'whoever',\n",
              "           'whole',\n",
              "           'whom',\n",
              "           'whose',\n",
              "           'why',\n",
              "           'will',\n",
              "           'with',\n",
              "           'within',\n",
              "           'without',\n",
              "           'would',\n",
              "           'yet',\n",
              "           'you',\n",
              "           'your',\n",
              "           'yours',\n",
              "           'yourself',\n",
              "           'yourselves'})"
            ]
          },
          "metadata": {},
          "execution_count": 11
        }
      ]
    },
    {
      "cell_type": "code",
      "source": [
        "len(new_StopWords)"
      ],
      "metadata": {
        "colab": {
          "base_uri": "https://localhost:8080/"
        },
        "id": "ckTILLoGxURL",
        "outputId": "9899575e-92b0-4067-f029-da6df100ddff"
      },
      "execution_count": 12,
      "outputs": [
        {
          "output_type": "execute_result",
          "data": {
            "text/plain": [
              "341"
            ]
          },
          "metadata": {},
          "execution_count": 12
        }
      ]
    },
    {
      "cell_type": "markdown",
      "source": [
        "**Removing StopWords**"
      ],
      "metadata": {
        "id": "FqHpuqdTw8l5"
      }
    },
    {
      "cell_type": "code",
      "source": [
        "reduced_StopWords=STOPWORDS.difference({\"vijayasri\",\"Siri\"})\n",
        "reduced_StopWords"
      ],
      "metadata": {
        "colab": {
          "base_uri": "https://localhost:8080/"
        },
        "id": "fGM7qiuUwhvc",
        "outputId": "f706360c-d252-4b9c-c0eb-d9fd66e398b1"
      },
      "execution_count": 13,
      "outputs": [
        {
          "output_type": "execute_result",
          "data": {
            "text/plain": [
              "frozenset({'a',\n",
              "           'about',\n",
              "           'above',\n",
              "           'across',\n",
              "           'after',\n",
              "           'afterwards',\n",
              "           'again',\n",
              "           'against',\n",
              "           'all',\n",
              "           'almost',\n",
              "           'alone',\n",
              "           'along',\n",
              "           'already',\n",
              "           'also',\n",
              "           'although',\n",
              "           'always',\n",
              "           'am',\n",
              "           'among',\n",
              "           'amongst',\n",
              "           'amoungst',\n",
              "           'amount',\n",
              "           'an',\n",
              "           'and',\n",
              "           'another',\n",
              "           'any',\n",
              "           'anyhow',\n",
              "           'anyone',\n",
              "           'anything',\n",
              "           'anyway',\n",
              "           'anywhere',\n",
              "           'are',\n",
              "           'around',\n",
              "           'as',\n",
              "           'at',\n",
              "           'back',\n",
              "           'be',\n",
              "           'became',\n",
              "           'because',\n",
              "           'become',\n",
              "           'becomes',\n",
              "           'becoming',\n",
              "           'been',\n",
              "           'before',\n",
              "           'beforehand',\n",
              "           'behind',\n",
              "           'being',\n",
              "           'below',\n",
              "           'beside',\n",
              "           'besides',\n",
              "           'between',\n",
              "           'beyond',\n",
              "           'bill',\n",
              "           'both',\n",
              "           'bottom',\n",
              "           'but',\n",
              "           'by',\n",
              "           'call',\n",
              "           'can',\n",
              "           'cannot',\n",
              "           'cant',\n",
              "           'co',\n",
              "           'computer',\n",
              "           'con',\n",
              "           'could',\n",
              "           'couldnt',\n",
              "           'cry',\n",
              "           'de',\n",
              "           'describe',\n",
              "           'detail',\n",
              "           'did',\n",
              "           'didn',\n",
              "           'do',\n",
              "           'does',\n",
              "           'doesn',\n",
              "           'doing',\n",
              "           'don',\n",
              "           'done',\n",
              "           'down',\n",
              "           'due',\n",
              "           'during',\n",
              "           'each',\n",
              "           'eg',\n",
              "           'eight',\n",
              "           'either',\n",
              "           'eleven',\n",
              "           'else',\n",
              "           'elsewhere',\n",
              "           'empty',\n",
              "           'enough',\n",
              "           'etc',\n",
              "           'even',\n",
              "           'ever',\n",
              "           'every',\n",
              "           'everyone',\n",
              "           'everything',\n",
              "           'everywhere',\n",
              "           'except',\n",
              "           'few',\n",
              "           'fifteen',\n",
              "           'fifty',\n",
              "           'fill',\n",
              "           'find',\n",
              "           'fire',\n",
              "           'first',\n",
              "           'five',\n",
              "           'for',\n",
              "           'former',\n",
              "           'formerly',\n",
              "           'forty',\n",
              "           'found',\n",
              "           'four',\n",
              "           'from',\n",
              "           'front',\n",
              "           'full',\n",
              "           'further',\n",
              "           'get',\n",
              "           'give',\n",
              "           'go',\n",
              "           'had',\n",
              "           'has',\n",
              "           'hasnt',\n",
              "           'have',\n",
              "           'he',\n",
              "           'hence',\n",
              "           'her',\n",
              "           'here',\n",
              "           'hereafter',\n",
              "           'hereby',\n",
              "           'herein',\n",
              "           'hereupon',\n",
              "           'hers',\n",
              "           'herself',\n",
              "           'him',\n",
              "           'himself',\n",
              "           'his',\n",
              "           'how',\n",
              "           'however',\n",
              "           'hundred',\n",
              "           'i',\n",
              "           'ie',\n",
              "           'if',\n",
              "           'in',\n",
              "           'inc',\n",
              "           'indeed',\n",
              "           'interest',\n",
              "           'into',\n",
              "           'is',\n",
              "           'it',\n",
              "           'its',\n",
              "           'itself',\n",
              "           'just',\n",
              "           'keep',\n",
              "           'kg',\n",
              "           'km',\n",
              "           'last',\n",
              "           'latter',\n",
              "           'latterly',\n",
              "           'least',\n",
              "           'less',\n",
              "           'ltd',\n",
              "           'made',\n",
              "           'make',\n",
              "           'many',\n",
              "           'may',\n",
              "           'me',\n",
              "           'meanwhile',\n",
              "           'might',\n",
              "           'mill',\n",
              "           'mine',\n",
              "           'more',\n",
              "           'moreover',\n",
              "           'most',\n",
              "           'mostly',\n",
              "           'move',\n",
              "           'much',\n",
              "           'must',\n",
              "           'my',\n",
              "           'myself',\n",
              "           'name',\n",
              "           'namely',\n",
              "           'neither',\n",
              "           'never',\n",
              "           'nevertheless',\n",
              "           'next',\n",
              "           'nine',\n",
              "           'no',\n",
              "           'nobody',\n",
              "           'none',\n",
              "           'noone',\n",
              "           'nor',\n",
              "           'not',\n",
              "           'nothing',\n",
              "           'now',\n",
              "           'nowhere',\n",
              "           'of',\n",
              "           'off',\n",
              "           'often',\n",
              "           'on',\n",
              "           'once',\n",
              "           'one',\n",
              "           'only',\n",
              "           'onto',\n",
              "           'or',\n",
              "           'other',\n",
              "           'others',\n",
              "           'otherwise',\n",
              "           'our',\n",
              "           'ours',\n",
              "           'ourselves',\n",
              "           'out',\n",
              "           'over',\n",
              "           'own',\n",
              "           'part',\n",
              "           'per',\n",
              "           'perhaps',\n",
              "           'please',\n",
              "           'put',\n",
              "           'quite',\n",
              "           'rather',\n",
              "           're',\n",
              "           'really',\n",
              "           'regarding',\n",
              "           'same',\n",
              "           'say',\n",
              "           'see',\n",
              "           'seem',\n",
              "           'seemed',\n",
              "           'seeming',\n",
              "           'seems',\n",
              "           'serious',\n",
              "           'several',\n",
              "           'she',\n",
              "           'should',\n",
              "           'show',\n",
              "           'side',\n",
              "           'since',\n",
              "           'sincere',\n",
              "           'six',\n",
              "           'sixty',\n",
              "           'so',\n",
              "           'some',\n",
              "           'somehow',\n",
              "           'someone',\n",
              "           'something',\n",
              "           'sometime',\n",
              "           'sometimes',\n",
              "           'somewhere',\n",
              "           'still',\n",
              "           'such',\n",
              "           'system',\n",
              "           'take',\n",
              "           'ten',\n",
              "           'than',\n",
              "           'that',\n",
              "           'the',\n",
              "           'their',\n",
              "           'them',\n",
              "           'themselves',\n",
              "           'then',\n",
              "           'thence',\n",
              "           'there',\n",
              "           'thereafter',\n",
              "           'thereby',\n",
              "           'therefore',\n",
              "           'therein',\n",
              "           'thereupon',\n",
              "           'these',\n",
              "           'they',\n",
              "           'thick',\n",
              "           'thin',\n",
              "           'third',\n",
              "           'this',\n",
              "           'those',\n",
              "           'though',\n",
              "           'three',\n",
              "           'through',\n",
              "           'throughout',\n",
              "           'thru',\n",
              "           'thus',\n",
              "           'to',\n",
              "           'together',\n",
              "           'too',\n",
              "           'top',\n",
              "           'toward',\n",
              "           'towards',\n",
              "           'twelve',\n",
              "           'twenty',\n",
              "           'two',\n",
              "           'un',\n",
              "           'under',\n",
              "           'unless',\n",
              "           'until',\n",
              "           'up',\n",
              "           'upon',\n",
              "           'us',\n",
              "           'used',\n",
              "           'using',\n",
              "           'various',\n",
              "           'very',\n",
              "           'via',\n",
              "           'was',\n",
              "           'we',\n",
              "           'well',\n",
              "           'were',\n",
              "           'what',\n",
              "           'whatever',\n",
              "           'when',\n",
              "           'whence',\n",
              "           'whenever',\n",
              "           'where',\n",
              "           'whereafter',\n",
              "           'whereas',\n",
              "           'whereby',\n",
              "           'wherein',\n",
              "           'whereupon',\n",
              "           'wherever',\n",
              "           'whether',\n",
              "           'which',\n",
              "           'while',\n",
              "           'whither',\n",
              "           'who',\n",
              "           'whoever',\n",
              "           'whole',\n",
              "           'whom',\n",
              "           'whose',\n",
              "           'why',\n",
              "           'will',\n",
              "           'with',\n",
              "           'within',\n",
              "           'without',\n",
              "           'would',\n",
              "           'yet',\n",
              "           'you',\n",
              "           'your',\n",
              "           'yours',\n",
              "           'yourself',\n",
              "           'yourselves'})"
            ]
          },
          "metadata": {},
          "execution_count": 13
        }
      ]
    },
    {
      "cell_type": "code",
      "source": [
        "len(reduced_StopWords)"
      ],
      "metadata": {
        "colab": {
          "base_uri": "https://localhost:8080/"
        },
        "id": "5oSrl08Vxkir",
        "outputId": "cf420223-ed22-4bba-de5d-334ae8b88e05"
      },
      "execution_count": 14,
      "outputs": [
        {
          "output_type": "execute_result",
          "data": {
            "text/plain": [
              "337"
            ]
          },
          "metadata": {},
          "execution_count": 14
        }
      ]
    },
    {
      "cell_type": "markdown",
      "source": [
        "Tokenize:Spliting the text into words"
      ],
      "metadata": {
        "id": "7P0S9daOyLUK"
      }
    },
    {
      "cell_type": "code",
      "source": [
        "text=\"Vijaya Sri Manda from Gudivada Studying Artificial Intelligence and Data Science in Seshadri Rao Gudlavalleru Engineering College !\""
      ],
      "metadata": {
        "id": "sI_KkXLYyX6I"
      },
      "execution_count": 15,
      "outputs": []
    },
    {
      "cell_type": "code",
      "source": [
        "from gensim.utils import simple_preprocess\n",
        "tokenize_text=simple_preprocess(text)\n",
        "tokenize_text"
      ],
      "metadata": {
        "colab": {
          "base_uri": "https://localhost:8080/"
        },
        "id": "tdKDHde2xx85",
        "outputId": "83eda04b-4fb7-4b3b-c37a-d47921649c17"
      },
      "execution_count": 16,
      "outputs": [
        {
          "output_type": "execute_result",
          "data": {
            "text/plain": [
              "['vijaya',\n",
              " 'sri',\n",
              " 'manda',\n",
              " 'from',\n",
              " 'gudivada',\n",
              " 'studying',\n",
              " 'artificial',\n",
              " 'intelligence',\n",
              " 'and',\n",
              " 'data',\n",
              " 'science',\n",
              " 'in',\n",
              " 'seshadri',\n",
              " 'rao',\n",
              " 'gudlavalleru',\n",
              " 'engineering',\n",
              " 'college']"
            ]
          },
          "metadata": {},
          "execution_count": 16
        }
      ]
    },
    {
      "cell_type": "code",
      "source": [
        "removingstopwordsfromtext=[word for word in tokenize_text if word not in STOPWORDS]\n",
        "removingstopwordsfromtext"
      ],
      "metadata": {
        "colab": {
          "base_uri": "https://localhost:8080/"
        },
        "id": "sIBwwotuyqzK",
        "outputId": "b9474d7e-227c-4155-fce1-e1b425c671bf"
      },
      "execution_count": 17,
      "outputs": [
        {
          "output_type": "execute_result",
          "data": {
            "text/plain": [
              "['vijaya',\n",
              " 'sri',\n",
              " 'manda',\n",
              " 'gudivada',\n",
              " 'studying',\n",
              " 'artificial',\n",
              " 'intelligence',\n",
              " 'data',\n",
              " 'science',\n",
              " 'seshadri',\n",
              " 'rao',\n",
              " 'gudlavalleru',\n",
              " 'engineering',\n",
              " 'college']"
            ]
          },
          "metadata": {},
          "execution_count": 17
        }
      ]
    },
    {
      "cell_type": "code",
      "source": [
        "documents = [\n",
        "    \"I love machine learning\",\n",
        "    \"Machine learning is amazing\",\n",
        "    \"Natural language processing is a part of AI\",\n",
        "    \"I enjoy learning about AI and machine learning\"\n",
        "]\n"
      ],
      "metadata": {
        "id": "CU3U_GD90cLb"
      },
      "execution_count": 18,
      "outputs": []
    },
    {
      "cell_type": "code",
      "source": [
        "from gensim.utils import simple_preprocess\n",
        "from gensim.parsing.preprocessing import STOPWORDS\n",
        "\n",
        "# Preprocessing function\n",
        "def preprocess(text):\n",
        "    return [word for word in simple_preprocess(text) if word not in STOPWORDS]\n",
        "\n",
        "# Preprocess all documents\n",
        "processed_docs = [preprocess(doc) for doc in documents]\n",
        "print(processed_docs)\n"
      ],
      "metadata": {
        "colab": {
          "base_uri": "https://localhost:8080/"
        },
        "id": "-bVU9ZfQz4PE",
        "outputId": "dfc2c83d-7794-40cc-ac1e-a88dae037b19"
      },
      "execution_count": 19,
      "outputs": [
        {
          "output_type": "stream",
          "name": "stdout",
          "text": [
            "[['love', 'machine', 'learning'], ['machine', 'learning', 'amazing'], ['natural', 'language', 'processing', 'ai'], ['enjoy', 'learning', 'ai', 'machine', 'learning']]\n"
          ]
        }
      ]
    },
    {
      "cell_type": "markdown",
      "source": [
        " Create a Dictionary:\n",
        " This assigns a unique ID to each word.\n",
        "\n"
      ],
      "metadata": {
        "id": "QPFb-vZj0rhW"
      }
    },
    {
      "cell_type": "code",
      "source": [
        "from gensim import corpora\n",
        "\n",
        "# Create dictionary\n",
        "dictionary = corpora.Dictionary(processed_docs)\n",
        "print(dictionary.token2id)\n"
      ],
      "metadata": {
        "colab": {
          "base_uri": "https://localhost:8080/"
        },
        "id": "p11GVPIm0kdr",
        "outputId": "f9e6ce8d-54d2-42ab-d418-2278a04289d7"
      },
      "execution_count": 20,
      "outputs": [
        {
          "output_type": "stream",
          "name": "stdout",
          "text": [
            "{'learning': 0, 'love': 1, 'machine': 2, 'amazing': 3, 'ai': 4, 'language': 5, 'natural': 6, 'processing': 7, 'enjoy': 8}\n"
          ]
        }
      ]
    }
  ]
}